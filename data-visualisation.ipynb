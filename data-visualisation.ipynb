{
 "cells": [
  {
   "cell_type": "code",
   "execution_count": 1,
   "metadata": {},
   "outputs": [],
   "source": [
    "#%reset -f\n",
    "import pandas as pd\n",
    "import numpy as np\n",
    "import matplotlib.pyplot as plt\n",
    "import os\n",
    "import glob\n",
    "#import math\n",
    "from datetime import date, timedelta\n",
    "#from datetime import datetime\n",
    "import seaborn as sns\n",
    "import plotly.graph_objects as go\n",
    "import plotly.express as px\n",
    "from plotly.offline import plot"
   ]
  },
  {
   "cell_type": "code",
   "execution_count": 2,
   "metadata": {},
   "outputs": [
    {
     "name": "stdout",
     "output_type": "stream",
     "text": [
      "c:\\Users\\Administrator\\repos\\jupyter\\plotly\n"
     ]
    }
   ],
   "source": [
    "print (os.getcwd())\n",
    "#os.chdir('..\\data')"
   ]
  },
  {
   "cell_type": "code",
   "execution_count": 3,
   "metadata": {},
   "outputs": [],
   "source": [
    "#------------------------------------------------------------------------------\n",
    "\"\"\"today = date.today()\n",
    "# YYmmdd\n",
    "d1 = today.strftime(\"%Y%m%d\")\n",
    "print(\"d1 =\", d1)\"\"\"\n",
    "#today = date.today().strftime(\"%Y%m%d\")\n",
    "#prev_day\n",
    "today = (date.today() - timedelta(days=0)).strftime(\"%Y%m%d\") #return prev date"
   ]
  },
  {
   "cell_type": "code",
   "execution_count": 11,
   "metadata": {},
   "outputs": [],
   "source": [
    "server='q2.open-broker.ru'\n",
    "# path = os.getcwd()+'\\QUIK_STAT_html'"
   ]
  },
  {
   "cell_type": "code",
   "execution_count": 14,
   "metadata": {},
   "outputs": [],
   "source": [
    "#++++++++++++++++++++++++++++++++++++++++++++++++++++++++++++++++++++++++++++++\n",
    "def f_txtfiles(today):\n",
    "    txtfiles = []\n",
    "    for file in glob.glob(\".\\\\data\\\\ITERATIONS*\"+server+\"*_\"+today+\"*.txt\"):\n",
    "            txtfiles.append(file)\n",
    "    return txtfiles\n",
    "#++++++++++++++++++++++++++++++++++++++++++++++++++++++++++++++++++++++++++++++"
   ]
  },
  {
   "cell_type": "code",
   "execution_count": 15,
   "metadata": {},
   "outputs": [
    {
     "name": "stdout",
     "output_type": "stream",
     "text": [
      "['.\\\\data\\\\ITERATIONS_IPCOMMENT_q2.open-broker.ru_s_IPADDRESS_10.55.150.10_UID_231305_20220804_111424_FR.txt']\n"
     ]
    }
   ],
   "source": [
    "#------------------------------------------------------------------------------\n",
    "txtfiles=f_txtfiles(today=today)\n",
    "print(txtfiles)\n",
    "#------------------------------------------------------------------------------"
   ]
  },
  {
   "cell_type": "code",
   "execution_count": 16,
   "metadata": {},
   "outputs": [],
   "source": [
    "#++++++++++++++++++++++++++++++++++++++++++++++++++++++++++++++++++++++++++++++\n",
    "def f_df_append(txtfiles):\n",
    "    file=0\n",
    "    if len(txtfiles)>1:\n",
    "        while (file<len(txtfiles)):\n",
    "            try:\n",
    "                df\n",
    "            except:\n",
    "                df=pd.read_csv(txtfiles[file],sep=';',header=0)\n",
    "                file=+1\n",
    "                #print('except file='+str(file))\n",
    "            #print('next')\n",
    "            df_temp=pd.read_csv(txtfiles[file],sep=';',header=0)\n",
    "            df=df.append(df_temp)\n",
    "            file=file+1\n",
    "            #print('file='+str(file))\n",
    "    elif len(txtfiles)==1:\n",
    "        df=pd.read_csv(txtfiles[file],sep=';',header=0)  \n",
    "    return df\n",
    "#++++++++++++++++++++++++++++++++++++++++++++++++++++++++++++++++++++++++++++++"
   ]
  },
  {
   "cell_type": "code",
   "execution_count": 17,
   "metadata": {},
   "outputs": [],
   "source": [
    "#------------------------------------------------------------------------------\n",
    "df=f_df_append(txtfiles)\n",
    "#------------------------------------------------------------------------------"
   ]
  },
  {
   "cell_type": "code",
   "execution_count": 18,
   "metadata": {},
   "outputs": [],
   "source": [
    "#++++++++++++++++++++++++++++++++++++++++++++++++++++++++++++++++++++++++++++++\n",
    "def f_df_transform(df):\n",
    "    df=df.reset_index()\n",
    "    del df['index']\n",
    "    #df=df[df['delta_time']<10]\n",
    "    df[['date','local_time']]=df[['date','local_time']].astype(str)\n",
    "    df['len_local_time']=df.local_time.map(len)\n",
    "    df.loc[df['len_local_time']==5,'local_time']='0'+df['local_time']\n",
    "    df.loc[df['len_local_time']==4,'local_time']='00'+df['local_time']\n",
    "    df.loc[df['len_local_time']==3,'local_time']='000'+df['local_time']\n",
    "    df.loc[df['len_local_time']==2,'local_time']='0000'+df['local_time']\n",
    "    df.loc[df['len_local_time']==1,'local_time']='00000'+df['local_time']\n",
    "    del df['len_local_time']\n",
    "    df['date_time']=df['date']+' '+df['local_time']\n",
    "    df['date_time']=pd.to_datetime(df['date_time'],format='%Y%m%d %H%M%S')\n",
    "    df=df.set_index('date_time')\n",
    "    df['date_time']=df.index\n",
    "    df.index.name=None\n",
    "    df=df.sort_values(by=['date_time'])\n",
    "    df['seconds']=df.delta_time\n",
    "    df=df.drop(['delta_time'],axis=1)\n",
    "    df['Market']=df.Stock\n",
    "    df=df.drop(['Stock'],axis=1)\n",
    "    return df\n",
    "#++++++++++++++++++++++++++++++++++++++++++++++++++++++++++++++++++++++++++++++"
   ]
  },
  {
   "cell_type": "code",
   "execution_count": 19,
   "metadata": {},
   "outputs": [],
   "source": [
    "#------------------------------------------------------------------------------\n",
    "df=f_df_transform(df)\n",
    "#------------------------------------------------------------------------------"
   ]
  },
  {
   "cell_type": "code",
   "execution_count": 20,
   "metadata": {},
   "outputs": [],
   "source": [
    "#++++++++++++++++++++++++++++++++++++++++++++++++++++++++++++++++++++++++++++++\n",
    "def f_stat(df):\n",
    "    market_list=df.Market.unique()\n",
    "    for i in market_list:\n",
    "        stat=df[df.Market==i]\n",
    "        print(i)\n",
    "        print(stat.describe().seconds)\n",
    "    return stat.describe().seconds\n",
    "#++++++++++++++++++++++++++++++++++++++++++++++++++++++++++++++++++++++++++++++"
   ]
  },
  {
   "cell_type": "code",
   "execution_count": 21,
   "metadata": {},
   "outputs": [
    {
     "name": "stdout",
     "output_type": "stream",
     "text": [
      "FR\n",
      "count    800.000000\n",
      "mean       0.013196\n",
      "std        0.009668\n",
      "min        0.003000\n",
      "25%        0.007000\n",
      "50%        0.013000\n",
      "75%        0.016000\n",
      "max        0.125000\n",
      "Name: seconds, dtype: float64\n"
     ]
    }
   ],
   "source": [
    "#------------------------------------------------------------------------------\n",
    "stat=f_stat(df)\n",
    "#stat[0:]=round(stat[0:],6)\n",
    "#stat[0:][:]\n",
    "#stat[:][:].to_csv(path+'\\QUIK_STAT_ITERATIONS_'+server+'_'+today+'.txt',sep=':',header=False)\n",
    "#------------------------------------------------------------------------------"
   ]
  },
  {
   "cell_type": "code",
   "execution_count": 22,
   "metadata": {},
   "outputs": [
    {
     "data": {
      "image/png": "[encoded data removed]",
      "text/plain": [
       "<Figure size 432x288 with 1 Axes>"
      ]
     },
     "metadata": {
      "needs_background": "light"
     },
     "output_type": "display_data"
    }
   ],
   "source": [
    "p = sns.stripplot( x=\"Market\", y=\"seconds\", data=df, size=4, dodge=True )\n",
    "#plt.xticks(rotation=45, ha=\"right\")\n",
    "# plot the mean line\n",
    "sns.boxplot(showmeans=True,\n",
    "            meanline=True,\n",
    "            #meanprops={'color': 'purple', 'ls': '-', 'lw': 2},\n",
    "            meanprops={'linestyle': '-.','lw': 1,'color':'brown'},\n",
    "            medianprops={'visible': False},\n",
    "            whiskerprops={'visible': False},\n",
    "            zorder=2,\n",
    "            x=\"Market\",\n",
    "            y=\"seconds\",\n",
    "            data=df,\n",
    "            showfliers=False,\n",
    "            showbox=False,\n",
    "            showcaps=False,\n",
    "            ax=p)\n",
    "plt.ylabel('transactions time (seconds)')\n",
    "plt.title('QUIK STATISTICS  '+server+'  '+today)\n",
    "#plt.text(x=0.51,y=0.08,s=\"An annotation\")\n",
    "plt.text(\n",
    "         x=0.21\n",
    "        ,y=round(stat[1],3)+round(stat[1],3)/100*40\n",
    "        ,s=(str(stat.index[0])+\": \"+str(round(stat[0],0))+\"\\n\"+\n",
    "         str(stat.index[1])+\": \"+str(round(stat[1],3))+\"\\n\"+\n",
    "         str(stat.index[3])+\": \"+str(round(stat[3],3))+\"\\n\"+\n",
    "         str(stat.index[7])+\": \"+str(round(stat[7],3)))\n",
    "        )\n",
    "plt.savefig( 'QUIK_STAT_ITERATIONS_'+server+'_'+today+'.png',dpi=100)"
   ]
  }
 ],
 "metadata": {
  "interpreter": {
   "hash": "b89b5cfaba6639976dc87ff2fec6d58faec662063367e2c229c520fe71072417"
  },
  "kernelspec": {
   "display_name": "Python 3 (ipykernel)",
   "language": "python",
   "name": "python3"
  },
  "language_info": {
   "codemirror_mode": {
    "name": "ipython",
    "version": 3
   },
   "file_extension": ".py",
   "mimetype": "text/x-python",
   "name": "python",
   "nbconvert_exporter": "python",
   "pygments_lexer": "ipython3",
   "version": "3.10.1"
  }
 },
 "nbformat": 4,
 "nbformat_minor": 2
}
