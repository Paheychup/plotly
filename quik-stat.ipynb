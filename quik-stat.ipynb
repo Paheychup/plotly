{
 "cells": [
  {
   "cell_type": "code",
   "execution_count": 1,
   "metadata": {},
   "outputs": [],
   "source": [
    "#%reset -f\n",
    "import pandas as pd\n",
    "#import numpy as np\n",
    "#import matplotlib.pyplot as plt\n",
    "import os\n",
    "import glob\n",
    "#import math\n",
    "from datetime import date, timedelta\n",
    "#from datetime import datetime\n",
    "# import seaborn as sns\n",
    "import plotly.graph_objects as go\n",
    "from plotly.subplots import make_subplots\n",
    "import plotly.express as px\n",
    "from plotly.offline import plot"
   ]
  },
  {
   "cell_type": "code",
   "execution_count": 2,
   "metadata": {},
   "outputs": [
    {
     "name": "stdout",
     "output_type": "stream",
     "text": [
      "c:\\Users\\Administrator\\repos\\jupyter\\plotly\n"
     ]
    }
   ],
   "source": [
    "print (os.getcwd())\n",
    "os.chdir('c:\\\\QUIK_for_stat\\\\lua')"
   ]
  },
  {
   "cell_type": "code",
   "execution_count": 2,
   "metadata": {},
   "outputs": [],
   "source": [
    "#Определяем дату, за которую будем строить график\n",
    "\"\"\"today = date.today()\n",
    "# YYmmdd\n",
    "d1 = today.strftime(\"%Y%m%d\")\n",
    "print(\"d1 =\", d1)\"\"\"\n",
    "\n",
    "#today = date.today().strftime(\"%Y%m%d\")\n",
    "#prev_day\n",
    "today= (date.today() - timedelta(days=1)).strftime(\"%Y%m%d\") #return prev date\n",
    "today='20220804'"
   ]
  },
  {
   "cell_type": "code",
   "execution_count": 3,
   "metadata": {},
   "outputs": [],
   "source": [
    "# функция для поиска файлов с нужной датой в соответствующей папке\n",
    "def f_txtfiles(today):\n",
    "    txtfiles = []\n",
    "    #for file in glob.glob(\".\\\\lua_output_txt\\\\*IPADDRESS*\"+today+\"*.txt\"):\n",
    "    for file in glob.glob(\".\\\\data\\\\*IPADDRESS*\"+today+\"*.txt\"):\n",
    "            txtfiles.append(file)\n",
    "    return txtfiles"
   ]
  },
  {
   "cell_type": "code",
   "execution_count": 4,
   "metadata": {},
   "outputs": [],
   "source": [
    "# формируем лист с тексовыми файлами и данными за нужную дату\n",
    "txtfiles=f_txtfiles(today=today)"
   ]
  },
  {
   "cell_type": "code",
   "execution_count": 5,
   "metadata": {},
   "outputs": [],
   "source": [
    "# функия для создания датафрейма с результатами по всем рынкам\n",
    "def f_df_append(txtfiles):\n",
    "    file=0\n",
    "    if len(txtfiles)>1:\n",
    "        while (file<len(txtfiles)):\n",
    "            try:\n",
    "                df\n",
    "            except:\n",
    "                df=pd.read_csv(txtfiles[file],sep=';',header=0)\n",
    "                file=+1\n",
    "                #print('except file='+str(file))\n",
    "  \n",
    "            #print('next')\n",
    "            df_temp=pd.read_csv(txtfiles[file],sep=';',header=0)\n",
    "            df=df.append(df_temp)\n",
    "            file=file+1\n",
    "            #print('file='+str(file))\n",
    "    elif len(txtfiles)==1:\n",
    "        df=pd.read_csv(txtfiles[file],sep=';',header=0)  \n",
    "    return df"
   ]
  },
  {
   "cell_type": "code",
   "execution_count": 6,
   "metadata": {},
   "outputs": [],
   "source": [
    "# формируем датафрейм для визуализации данных исползуя функцию \n",
    "df=f_df_append(txtfiles)"
   ]
  },
  {
   "cell_type": "code",
   "execution_count": 7,
   "metadata": {},
   "outputs": [],
   "source": [
    "# функция преобразования данных для визуализации \n",
    "def f_df_transform(df):\n",
    "    df=df.reset_index()\n",
    "    del df['index']\n",
    "    df=df[df['delta_time']<10]\n",
    "    df[['date','local_time']]=df[['date','local_time']].astype(str)\n",
    "    df['len_local_time']=df.local_time.map(len)\n",
    "    df.loc[df['len_local_time']==5,'local_time']='0'+df['local_time']\n",
    "    df.loc[df['len_local_time']==4,'local_time']='00'+df['local_time']\n",
    "    df.loc[df['len_local_time']==3,'local_time']='000'+df['local_time']\n",
    "    df.loc[df['len_local_time']==2,'local_time']='0000'+df['local_time']\n",
    "    df.loc[df['len_local_time']==1,'local_time']='00000'+df['local_time']\n",
    "    del df['len_local_time']\n",
    "    df['date_time']=df['date']+' '+df['local_time']\n",
    "    df['date_time']=pd.to_datetime(df['date_time'],format='%Y%m%d %H%M%S')\n",
    "    df=df.set_index('date_time')\n",
    "    df['date_time']=df.index\n",
    "    df.index.name=None\n",
    "    df=df.sort_values(by=['date_time'])\n",
    "    df['seconds']=df.delta_time\n",
    "    df=df.drop(['delta_time'],axis=1)\n",
    "    df['Market']=df.Stock\n",
    "    df=df.drop(['Stock'],axis=1)\n",
    "    df=df.sort_values(['Market','type'],ascending=[True,False])\n",
    "    return df"
   ]
  },
  {
   "cell_type": "code",
   "execution_count": 9,
   "metadata": {},
   "outputs": [],
   "source": [
    "# преобразуем данные для визуализации\n",
    "df=f_df_transform(df)"
   ]
  },
  {
   "cell_type": "markdown",
   "metadata": {},
   "source": [
    "#### Data Visualisation 1"
   ]
  },
  {
   "cell_type": "code",
   "execution_count": 10,
   "metadata": {},
   "outputs": [
    {
     "data": {
      "text/plain": [
       "'temp-plot.html'"
      ]
     },
     "execution_count": 10,
     "metadata": {},
     "output_type": "execute_result"
    }
   ],
   "source": [
    "# визуализируем данные https://plotly.com/python/reference/index/\n",
    "color_map= {'FR': 'rgb(235, 52, 52)' , 'CETS': 'rgb(235, 149, 52)', 'FORTS': 'rgb(67, 52, 235)'}\n",
    "\n",
    "fig=px.scatter(data_frame=df,x='date_time',y='seconds',title='QUIK STATISTICS'\n",
    "            #,facet_col='Market'\n",
    "            ,symbol='type'\n",
    "            ,color='Market'\n",
    "            ,hover_name='Market'\n",
    "            #,hover_data=['order_num','date_time','seconds','type']\n",
    "            ,hover_data={'order_num':True,'date_time':True,'seconds':True,'type':True}\n",
    "            ,color_discrete_map=color_map\n",
    "            #,symbol_sequence= ['circle', 'circle-open-dot', 'square','square-open-dot','diamond','diamond-open-dot']\n",
    "            ,symbol_sequence= ['circle','circle-open-dot']\n",
    "            #,color_discrete_sequence=['blue', 'orange', 'green', 'brown','black','yellow']\n",
    "               )\n",
    "# update title\n",
    "fig.update_layout({'title':{'font':{'size':20},'x':0.5,'xanchor':'center'}})\n",
    "# add slider\n",
    "#fig.update_layout({'xaxis':{'rangeslider':{'visible':False},'autorange':True}})\n",
    "#-----------------------------------------------------------------------------------------------\n",
    "# drop_down buttons\n",
    "# Create the buttons\n",
    "dropdown_buttons = [\n",
    "    {'label': \"ALL MARKETS\", 'method': \"update\", 'args': [{\"visible\": [True, True,True,True,True,True]}, {\"title\": \"QUIK STATISTIC\"}]},\n",
    "    {'label': \"CETS send_order\", 'method': \"update\", 'args': [{\"visible\": [True, False, False,False,False,False]}, {\"title\": \"CETS send_order\"}]},\n",
    "    {'label': \"CETS kill_order\", 'method': \"update\", 'args': [{\"visible\": [False, True, False, False,False,False]}, {\"title\": \"CETS kill_order\"}]},\n",
    "    {'label': \"FORTS send_order\", 'method': \"update\", 'args': [{\"visible\": [False, False, True,False,False,False]}, {\"title\": \"FORTS send_order\"}]},\n",
    "    {'label': \"FORTS kill_order\", 'method': \"update\", 'args': [{\"visible\": [False, False, False, True, False, False]}, {\"title\": \"FORTS kill_order\"}]},\n",
    "    {'label': \"FR send_order\", 'method': \"update\", 'args': [{\"visible\": [False, False, False,False,True,False]}, {\"title\": \"FR send_order\"}]},\n",
    "    {'label': \"FR kill_order\", 'method': \"update\", 'args': [{\"visible\": [False, False, False, False,False,True]}, {\"title\": \"FR kill_order\"}]},\n",
    "]\n",
    "# Update the figure to add dropdown menu\n",
    "fig.update_layout({\n",
    "  \t\t'updatemenus': [\n",
    "        {'active': 0, 'buttons': dropdown_buttons}\n",
    "        ]})\n",
    "#-----------------------------------------------------------------------------------------   \n",
    "# legend and axis update\n",
    "# create legend dictionary\n",
    "my_legend={'title':{'text':'ALL MARKETS','font':{'color':'red'}}\n",
    "            ,'bgcolor':'rgb(246,228,129)'\n",
    "            ,'bordercolor':'black','borderwidth':1\n",
    "            ,'font':{'size':16}\n",
    "            ,'groupclick':'toggleitem'\n",
    "            #,'orientation':'h'\n",
    "            #,'yanchor':'top'\n",
    "            #,'y':0.99\n",
    "            #,'xanchor':'right'\n",
    "            #,'x':0.2\n",
    "            }\n",
    "\n",
    "fig.update_layout({ \n",
    "                'xaxis':{'title':{'text':'Date_time','font':{'size':20}}}\n",
    "                ,'yaxis':{'title':{'text':'Response to transaction in seconds','font':{'size':20}}}\n",
    "                ,'legend':my_legend\n",
    "                })\n",
    "#-----------------------------------------------------------------------------------------         \n",
    "# hover update  \n",
    "''' # first method\n",
    "fig.update_layout(\n",
    "    hoverlabel=dict(\n",
    "        bgcolor=\"white\",\n",
    "        font_size=16,\n",
    "        font_family=\"Rockwell\"\n",
    "    )\n",
    ")\n",
    "'''\n",
    "# second method\n",
    "fig.update_layout({'hoverlabel':{'bgcolor':'white','font_size':16}})\n",
    "#-----------------------------------------------------------------------------------------         \n",
    "# marker update  \n",
    "\n",
    "''' # first method\n",
    "fig.update_traces(marker=dict(size=10,\n",
    "                              line=dict(width=1,\n",
    "                                        color='DarkSlateGrey')),\n",
    "                  selector=dict(mode='markers'))\n",
    "'''\n",
    "# second method\n",
    "fig.update_traces({'marker': {'size':10,'line':{'width':1,'color':'DarkSlateGrey'}} } )\n",
    "#fig.update_traces({'marker': {'size':20,'line':{'width':1,'color':'DarkSlateGrey'}} }, {'selector':{'mode':'markers'}} )\n",
    "#-----------------------------------------------------------------------------------------  \n",
    "# add annotation example\n",
    "'''\n",
    "annotation = { \n",
    "    # set coordinates of annotation\n",
    "    'xref':'paper', 'yref':'paper', 'x':0.5,'y':1.01\n",
    "    # set text and format\n",
    "    ,'bgcolor':'blue'\n",
    "    ,'showarrow':False\n",
    "    ,'text':'Server QUIK'\n",
    "    ,'font':{'color':'white','family':'Courier New','size':14}\n",
    "    }\n",
    "'''\n",
    "#annotation1={'font':{'size':16}}\n",
    "#annotation2={'font':{'size':16}}\n",
    "#annotation3={'font':{'size':16}}\n",
    "#fig.update_layout({'annotations':[annotation]})\n",
    "#fig.update_layout({'annotations':[annotation1,annotation2,annotation3]})\n",
    "\n",
    "#-----------------------------------------------------------------------------------------  \n",
    "# plot data\n",
    "plot(fig)\n",
    "\n",
    "#path=os.getcwd()+'\\QUIK_STAT_html'\n",
    "#plot(figure_or_data=fig,filename=path+'\\QUIK_STAT_'+today+'.html',auto_open=False)"
   ]
  },
  {
   "cell_type": "code",
   "execution_count": 12,
   "metadata": {},
   "outputs": [
    {
     "name": "stdout",
     "output_type": "stream",
     "text": [
      "c:\\Users\\chupa\\git\\plotly_examples\\plotly\n"
     ]
    }
   ],
   "source": [
    "#print(fig)\n",
    "#fig.to_json('fig.txt')\n",
    "fig.write_json('fig.txt')\n",
    "print (os.getcwd())"
   ]
  },
  {
   "cell_type": "markdown",
   "metadata": {},
   "source": [
    "#### Data Visualisation 2"
   ]
  },
  {
   "cell_type": "code",
   "execution_count": 13,
   "metadata": {},
   "outputs": [
    {
     "data": {
      "text/plain": [
       "'temp-plot.html'"
      ]
     },
     "execution_count": 13,
     "metadata": {},
     "output_type": "execute_result"
    }
   ],
   "source": [
    "'''# визуализируем данные https://plotly.com/python/reference/index/\n",
    "fig = make_subplots(rows=2,cols=1, subplot_titles=['First','Second'])\n",
    "fig.add_trace(go.Scatter(x=df.date_time,y=df.seconds,name='',showlegend=False),row=1,col=1)\n",
    "#fig.add_trace(go.Box(x=df.Market,y=df.seconds,name='',orientation='v',showlegend=False),row=2,col=1)\n",
    "fig.add_trace(go.Box(x=df.seconds,y=df.Market,name='',orientation='h',showlegend=False),row=2,col=1)\n",
    "fig.update_layout({'title':{'text':'QUIK STATISTIC','x':0.5,'y':1}})\n",
    "plot(fig)\n",
    "'''\n",
    "# визуализируем данные https://plotly.com/python/reference/index/\n",
    "fig = make_subplots(rows=1,cols=2, subplot_titles=['First','Second'],shared_yaxes=True)\n",
    "fig.add_trace(go.Scatter(x=df.date_time,y=df.seconds,name='',showlegend=False,mode='markers'),row=1,col=1)\n",
    "#fig.add_trace(go.Violin(x=df.Market,y=df.seconds,name='',orientation='v',showlegend=False),row=1,col=2)\n",
    "fig.add_trace(go.Violin(\n",
    "            x=df.Market,y=df.seconds,name=''\n",
    "            ,orientation='v'\n",
    "            ,showlegend=False\n",
    "            ,box_visible=True\n",
    "            ,meanline_visible=True\n",
    "            ,line_color='black'\n",
    "            )\n",
    "    ,row=1,col=2)\n",
    "fig.update_layout({'title':{'text':'QUIK STATISTIC','x':0.5,'y':1}})\n",
    "plot(fig)"
   ]
  },
  {
   "cell_type": "markdown",
   "metadata": {},
   "source": [
    "#### Data Visualisation 3"
   ]
  },
  {
   "cell_type": "code",
   "execution_count": 15,
   "metadata": {},
   "outputs": [
    {
     "data": {
      "text/plain": [
       "'temp-plot.html'"
      ]
     },
     "execution_count": 15,
     "metadata": {},
     "output_type": "execute_result"
    }
   ],
   "source": [
    "# визуализируем данные https://plotly.com/python/reference/index/\n",
    "'''\n",
    "fig = make_subplots(rows=1,cols=3, subplot_titles=['FR','CETS','FORTS'],shared_yaxes=True)\n",
    "col_num=1\n",
    "for market in ['FR','FORTS','CETS']:\n",
    "    df_=df[df.Market==market]\n",
    "    fig.add_trace(go.Scatter(x=df_.date_time,y=df_.seconds,name=market,mode='markers'),row=1,col=col_num)\n",
    "    col_num+=1\n",
    "fig.update_layout({'title':{'text':'QUIK STATISTIC','x':0.5,'y':1}})\n",
    "#fig.update_layout({'marker':''})\n",
    "plot(fig)\n",
    "'''\n",
    "# визуализируем данные https://plotly.com/python/reference/index/\n",
    "fig = make_subplots(rows=1,cols=3, subplot_titles=['FR','CETS','FORTS'],shared_yaxes=True)\n",
    "df_=df[df.Market==\"FR\"]\n",
    "fig.add_trace(go.Scatter(x=df_.date_time,y=df_.seconds\n",
    "            ,name='FR'\n",
    "            ,mode='markers'\n",
    "            ,marker_color='rgba(152, 0, 0, .8)'\n",
    "            ,hovertext='hovertext',hoverinfo=['x','y','all']\n",
    "            )\n",
    "        ,row=1,col=1)\n",
    "df_=df[df.Market==\"CETS\"]\n",
    "fig.add_trace(go.Scatter(x=df_.date_time,y=df_.seconds,name='CETS',mode='markers'\n",
    "            #,hovertemplate=[]\n",
    "    ),row=1,col=2)\n",
    "df_=df[df.Market==\"FORTS\"]\n",
    "fig.add_trace(go.Scatter(x=df_.date_time,y=df_.seconds,name='FORTS',mode='markers'),row=1,col=3)\n",
    "fig.update_layout({'title':{'text':'QUIK STATISTIC','x':0.5,'y':1}})\n",
    "\n",
    "#-----------------------------------------------------------------------------------------------\n",
    "# buttons\n",
    "date_buttons=[{'count':2,'step':'hour','stepmode':'todate','label':'2HRTD'}\n",
    "            ,{'count':5,'step':'hour','stepmode':'backward','label':'5HBW'}\n",
    "            ,{'count':10,'step':'hour','stepmode':'backward','label':'10HRTD'}\n",
    "]\n",
    "fig.update_layout({'xaxis':{'rangeselector':{'buttons':date_buttons}}})\n",
    "\n",
    "#-----------------------------------------------------------------------------------------------\n",
    "# drop_down buttons\n",
    "# Create the buttons\n",
    "dropdown_buttons = [\n",
    "{'label': \"ALL\", 'method': \"update\", 'args': [{\"visible\": [True, True, True]}, {\"title\": \"ALL\"}]},\n",
    "{'label': \"FR\", 'method': \"update\", 'args': [{\"visible\": [True, False, False]}, {\"title\": \"FR\"}]},\n",
    "{'label': \"CETS\", 'method': \"update\", 'args': [{\"visible\": [False, True, False]}, {\"title\": \"CETS\"}]},\n",
    "{'label': \"FORTS\", 'method': \"update\", 'args': [{\"visible\": [False, False, True]}, {\"title\": \"FORTS\"}]},\n",
    "]\n",
    "# Update the figure to add dropdown menu\n",
    "fig.update_layout({\n",
    "  \t\t'updatemenus': [\n",
    "        {'active': 0, 'buttons': dropdown_buttons}\n",
    "        ]})\n",
    "#fig.update_layout({'marker':''})\n",
    "plot(fig)"
   ]
  },
  {
   "cell_type": "code",
   "execution_count": 151,
   "metadata": {},
   "outputs": [
    {
     "name": "stdout",
     "output_type": "stream",
     "text": [
      "c:\\QUIK_for_stat\\lua\n"
     ]
    }
   ],
   "source": [
    "fig.write_json('fig.txt')\n",
    "print (os.getcwd())"
   ]
  },
  {
   "cell_type": "markdown",
   "metadata": {},
   "source": [
    "#### Data Visualisation 4"
   ]
  },
  {
   "cell_type": "code",
   "execution_count": 16,
   "metadata": {},
   "outputs": [
    {
     "data": {
      "text/plain": [
       "'temp-plot.html'"
      ]
     },
     "execution_count": 16,
     "metadata": {},
     "output_type": "execute_result"
    }
   ],
   "source": [
    "# визуализируем данные https://plotly.com/python/reference/index/\n",
    "'''\n",
    "fig = make_subplots(rows=1,cols=3, subplot_titles=['FR','CETS','FORTS'],shared_yaxes=True)\n",
    "col_num=1\n",
    "for market in ['FR','FORTS','CETS']:\n",
    "    df_=df[df.Market==market]\n",
    "    fig.add_trace(go.Scatter(x=df_.date_time,y=df_.seconds,name=market,mode='markers'),row=1,col=col_num)\n",
    "    col_num+=1\n",
    "fig.update_layout({'title':{'text':'QUIK STATISTIC','x':0.5,'y':1}})\n",
    "#fig.update_layout({'marker':''})\n",
    "plot(fig)\n",
    "'''\n",
    "# визуализируем данные https://plotly.com/python/reference/index/\n",
    "fig = make_subplots(rows=1,cols=3, subplot_titles=['FR','CETS','FORTS'],shared_yaxes=True)\n",
    "# FR ________________________________________________\n",
    "df_=df[(df.Market==\"FR\") & (df.type=='send_order')]\n",
    "fig.add_trace(go.Scatter(x=df_.date_time,y=df_.seconds\n",
    "            ,name='FR send_order'\n",
    "            ,mode='markers'\n",
    "            ,marker_color='#008000' #,marker_color='rgba(152, 0, 0, .8)'\n",
    "            ,marker_symbol='square'\n",
    "            ,hovertext='send_order',hoverinfo=['x','y','all']\n",
    "            )\n",
    "        ,row=1,col=1)\n",
    "df_=df[(df.Market==\"FR\") & (df.type=='kill_order')]\n",
    "fig.add_trace(go.Scatter(x=df_.date_time,y=df_.seconds\n",
    "            ,name='FR kill_order'\n",
    "            ,mode='markers'\n",
    "            ,marker_color='#FF0000' # ,marker_color='rgba(100, 0, 0, .8)'\n",
    "            ,marker_symbol='square-open-dot'\n",
    "            ,hovertext='kill_order', hoverinfo=['x','y','all']\n",
    "            )\n",
    "        ,row=1,col=1)\n",
    "# CETS ________________________________________________\n",
    "df_=df[(df.Market==\"CETS\") & (df.type=='send_order')]\n",
    "fig.add_trace(go.Scatter(x=df_.date_time,y=df_.seconds\n",
    "            ,name='CETS send_order'\n",
    "            ,mode='markers'\n",
    "            ,marker_color='#800000' #,marker_color='rgba(152, 0, 0, .8)'\n",
    "            ,marker_symbol='diamond'\n",
    "            #,marker_size=10\n",
    "            ,hovertext='send_order',hoverinfo=['x','y','all']\n",
    "            )\n",
    "        ,row=1,col=2)\n",
    "df_=df[(df.Market==\"CETS\") & (df.type=='kill_order')]\n",
    "fig.add_trace(go.Scatter(x=df_.date_time,y=df_.seconds\n",
    "            ,name='CETS kill_order'\n",
    "            ,mode='markers'\n",
    "            ,marker_color='#008080' # ,marker_color='rgba(100, 0, 0, .8)'\n",
    "            ,marker_symbol='diamond-open-dot'\n",
    "            ,hovertext='kill_order', hoverinfo=['x','y','all']\n",
    "            )\n",
    "        ,row=1,col=2)\n",
    "# FORTS ________________________________________________\n",
    "df_=df[(df.Market==\"FORTS\") & (df.type=='send_order')]\n",
    "fig.add_trace(go.Scatter(x=df_.date_time,y=df_.seconds\n",
    "            ,name='FORTS send_order'\n",
    "            ,mode='markers'\n",
    "            ,marker_color='#00FFFF' #,marker_color='rgba(152, 0, 0, .8)'\n",
    "            ,marker_symbol='circle'\n",
    "            #,marker_size=10\n",
    "            ,hovertext='send_order',hoverinfo=['x','y','all']\n",
    "            )\n",
    "        ,row=1,col=3)\n",
    "df_=df[(df.Market==\"FORTS\") & (df.type=='kill_order')]\n",
    "fig.add_trace(go.Scatter(x=df_.date_time,y=df_.seconds\n",
    "            ,name='FORTS kill_order'\n",
    "            ,mode='markers'\n",
    "            ,marker_color='#FF00FF' # ,marker_color='rgba(100, 0, 0, .8)'\n",
    "            ,marker_symbol='circle-open-dot'\n",
    "            ,hovertext='kill_order', hoverinfo=['x','y','all']\n",
    "            )\n",
    "        ,row=1,col=3)\n",
    "\n",
    "fig.update_layout({'title':{'text':'QUIK STATISTIC','x':0.5,'y':1}})\n",
    "fig.update_layout({'xaxis':{'rangeslider':{'visible':True}}})\n",
    "#-----------------------------------------------------------------------------------------------\n",
    "# buttons\n",
    "date_buttons=[{'count':2,'step':'hour','stepmode':'todate','label':'2HRTD'}\n",
    "            ,{'count':5,'step':'hour','stepmode':'backward','label':'5HBW'}\n",
    "            ,{'count':10,'step':'hour','stepmode':'backward','label':'10HRTD'}\n",
    "]\n",
    "fig.update_layout({'xaxis':{'rangeselector':{'buttons':date_buttons}}})\n",
    "\n",
    "\n",
    "\n",
    "#fig.update_layout({'marker':''})\n",
    "plot(fig)"
   ]
  },
  {
   "cell_type": "markdown",
   "metadata": {},
   "source": [
    "#### Data Visualisation 5"
   ]
  },
  {
   "cell_type": "code",
   "execution_count": 17,
   "metadata": {},
   "outputs": [
    {
     "data": {
      "text/plain": [
       "'temp-plot.html'"
      ]
     },
     "execution_count": 17,
     "metadata": {},
     "output_type": "execute_result"
    }
   ],
   "source": [
    "# визуализируем данные https://plotly.com/python/reference/index/\n",
    "'''\n",
    "fig = make_subplots(rows=1,cols=3, subplot_titles=['FR','CETS','FORTS'],shared_yaxes=True)\n",
    "col_num=1\n",
    "for market in ['FR','FORTS','CETS']:\n",
    "    df_=df[df.Market==market]\n",
    "    fig.add_trace(go.Scatter(x=df_.date_time,y=df_.seconds,name=market,mode='markers'),row=1,col=col_num)\n",
    "    col_num+=1\n",
    "fig.update_layout({'title':{'text':'QUIK STATISTIC','x':0.5,'y':1}})\n",
    "#fig.update_layout({'marker':''})\n",
    "plot(fig)\n",
    "'''\n",
    "# визуализируем данные https://plotly.com/python/reference/index/\n",
    "fig=go.Figure()\n",
    "# FR ________________________________________________\n",
    "df_=df[(df.Market==\"FR\") & (df.type=='send_order')]\n",
    "fig.add_trace(go.Scatter(x=df_.date_time,y=df_.seconds\n",
    "            ,name='FR send_order'\n",
    "            ,mode='markers'\n",
    "            ,marker_color='#008000' #,marker_color='rgba(152, 0, 0, .8)'\n",
    "            ,marker_symbol='square'\n",
    "            ,hovertext='send_order',hoverinfo=['x','y','all']\n",
    "            ))\n",
    "df_=df[(df.Market==\"FR\") & (df.type=='kill_order')]\n",
    "fig.add_trace(go.Scatter(x=df_.date_time,y=df_.seconds\n",
    "            ,name='FR kill_order'\n",
    "            ,mode='markers'\n",
    "            ,marker_color='#FF0000' # ,marker_color='rgba(100, 0, 0, .8)'\n",
    "            ,marker_symbol='square-open-dot'\n",
    "            ,hovertext='kill_order', hoverinfo=['x','y','all']\n",
    "            ))\n",
    "# CETS ________________________________________________\n",
    "df_=df[(df.Market==\"CETS\") & (df.type=='send_order')]\n",
    "fig.add_trace(go.Scatter(x=df_.date_time,y=df_.seconds\n",
    "            ,name='CETS send_order'\n",
    "            ,mode='markers'\n",
    "            ,marker_color='#800000' #,marker_color='rgba(152, 0, 0, .8)'\n",
    "            ,marker_symbol='diamond'\n",
    "            #,marker_size=10\n",
    "            ,hovertext='send_order',hoverinfo=['x','y','all']\n",
    "            ))\n",
    "df_=df[(df.Market==\"CETS\") & (df.type=='kill_order')]\n",
    "fig.add_trace(go.Scatter(x=df_.date_time,y=df_.seconds\n",
    "            ,name='CETS kill_order'\n",
    "            ,mode='markers'\n",
    "            ,marker_color='#008080' # ,marker_color='rgba(100, 0, 0, .8)'\n",
    "            ,marker_symbol='diamond-open-dot'\n",
    "            ,hovertext='kill_order', hoverinfo=['x','y','all']\n",
    "            ))\n",
    "# FORTS ________________________________________________\n",
    "df_=df[(df.Market==\"FORTS\") & (df.type=='send_order')]\n",
    "fig.add_trace(go.Scatter(x=df_.date_time,y=df_.seconds\n",
    "            ,name='FORTS send_order'\n",
    "            ,mode='markers'\n",
    "            ,marker_color='#00FFFF' #,marker_color='rgba(152, 0, 0, .8)'\n",
    "            ,marker_symbol='circle'\n",
    "            #,marker_size=10\n",
    "            ,hovertext='send_order',hoverinfo=['x','y','all']\n",
    "            ))\n",
    "df_=df[(df.Market==\"FORTS\") & (df.type=='kill_order')]\n",
    "fig.add_trace(go.Scatter(x=df_.date_time,y=df_.seconds\n",
    "            ,name='FORTS kill_order'\n",
    "            ,mode='markers'\n",
    "            ,marker_color='#FF00FF' # ,marker_color='rgba(100, 0, 0, .8)'\n",
    "            ,marker_symbol='circle-open-dot'\n",
    "            ,hovertext='kill_order', hoverinfo=['x','y','all']\n",
    "            ))\n",
    "fig.update_layout({'title':{'text':'QUIK STATISTIC','x':0.5,'y':1}})\n",
    "\n",
    "#-----------------------------------------------------------------------------------------------\n",
    "# buttons\n",
    "date_buttons=[{'count':2,'step':'hour','stepmode':'todate','label':'2HRTD'}\n",
    "            ,{'count':5,'step':'hour','stepmode':'backward','label':'5HBW'}\n",
    "            ,{'count':10,'step':'hour','stepmode':'backward','label':'10HRTD'}\n",
    "]\n",
    "fig.update_layout({'xaxis':{'rangeselector':{'buttons':date_buttons}}})\n",
    "\n",
    "#-----------------------------------------------------------------------------------------------\n",
    "# drop_down buttons\n",
    "# Create the buttons\n",
    "dropdown_buttons = [\n",
    "{'label': \"ALL\", 'method': \"update\", 'args': [{\"visible\": [True, True,True,True,True,True]}, {\"title\": \"ALL\"}]},\n",
    "\n",
    "{'label': \"FR send_order\", 'method': \"update\", 'args': [{\"visible\": [True, False, False,False,False,False]}, {\"title\": \"FR send_order\"}]},\n",
    "{'label': \"FR kill_order\", 'method': \"update\", 'args': [{\"visible\": [False, True, False, False, False, False]}, {\"title\": \"FR kill_order\"}]},\n",
    "\n",
    "{'label': \"CETS send_order\", 'method': \"update\", 'args': [{\"visible\": [False, False, True,False,False,False]}, {\"title\": \"CETS send_order\"}]},\n",
    "{'label': \"CETS kill_order\", 'method': \"update\", 'args': [{\"visible\": [False, False, False, True,False,False]}, {\"title\": \"CETS kill_order\"}]},\n",
    "\n",
    "{'label': \"FORTS send_order\", 'method': \"update\", 'args': [{\"visible\": [False, False, False,False,True,False]}, {\"title\": \"FORTS send_order\"}]},\n",
    "{'label': \"FORTS kill_order\", 'method': \"update\", 'args': [{\"visible\": [False, False, False, False,False,True]}, {\"title\": \"FORTS kill_order\"}]},\n",
    "]\n",
    "# Update the figure to add dropdown menu\n",
    "fig.update_layout({\n",
    "  \t\t'updatemenus': [\n",
    "        {'active': 0, 'buttons': dropdown_buttons}\n",
    "        ]})\n",
    "\n",
    "\n",
    "#fig.update_layout({'marker':''})\n",
    "plot(fig)"
   ]
  },
  {
   "cell_type": "markdown",
   "metadata": {},
   "source": [
    "#### Data Visualisation 6"
   ]
  },
  {
   "cell_type": "code",
   "execution_count": 18,
   "metadata": {},
   "outputs": [
    {
     "data": {
      "text/plain": [
       "'temp-plot.html'"
      ]
     },
     "execution_count": 18,
     "metadata": {},
     "output_type": "execute_result"
    }
   ],
   "source": [
    "# визуализируем данные https://plotly.com/python/reference/index/\n",
    "fig = make_subplots(rows=1,cols=2, subplot_titles=['First','Second'],shared_yaxes=True)\n",
    "fig.add_trace(go.Scatter(\n",
    "                        x=df.date_time,y=df.seconds\n",
    "                        ,name=''\n",
    "                        ,showlegend=False\n",
    "                        ,mode='markers'\n",
    "                        ,marker_color=df.seconds\n",
    "                        )\n",
    "            ,row=1,col=1)\n",
    "#fig.add_trace(go.Violin(x=df.Market,y=df.seconds,name='',orientation='v',showlegend=False),row=1,col=2)\n",
    "fig.add_trace(go.Violin(\n",
    "                    x=df.Market,y=df.seconds,name=''\n",
    "                    ,orientation='v'\n",
    "                    ,showlegend=False\n",
    "                    ,box_visible=True\n",
    "                    ,meanline_visible=True\n",
    "                    ,line_color='black'\n",
    "                    )\n",
    "            ,row=1,col=2)\n",
    "fig.update_layout({'title':{'text':'QUIK STATISTIC','x':0.5,'y':1}})\n",
    "plot(fig)\n",
    "\n",
    "\n",
    "\n",
    "\n"
   ]
  },
  {
   "cell_type": "code",
   "execution_count": 66,
   "metadata": {},
   "outputs": [
    {
     "data": {
      "text/plain": [
       "'temp-plot.html'"
      ]
     },
     "execution_count": 66,
     "metadata": {},
     "output_type": "execute_result"
    }
   ],
   "source": [
    "fig=px.scatter(df,x='date_time',y='seconds',color='Market',facet_col='type')\n",
    "plot(fig)"
   ]
  }
 ],
 "metadata": {
  "interpreter": {
   "hash": "b89b5cfaba6639976dc87ff2fec6d58faec662063367e2c229c520fe71072417"
  },
  "kernelspec": {
   "display_name": "Python 3.10.1 64-bit",
   "language": "python",
   "name": "python3"
  },
  "language_info": {
   "codemirror_mode": {
    "name": "ipython",
    "version": 3
   },
   "file_extension": ".py",
   "mimetype": "text/x-python",
   "name": "python",
   "nbconvert_exporter": "python",
   "pygments_lexer": "ipython3",
   "version": "3.10.11"
  },
  "orig_nbformat": 4
 },
 "nbformat": 4,
 "nbformat_minor": 2
}
